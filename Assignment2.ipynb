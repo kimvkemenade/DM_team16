```
#importing the needed packages
import pandas as pd
import numpy as np
import seaborn as sns
import matplotlib.pyplot as plt
```

```
# # downloading the dataset
!kaggle datasets download rodsaldanha/arketing-campaign

# unzipping the dataset
!unzip arketing-campaign.zip

df_raw = pd.read_csv('marketing_campaign.csv', sep = ';')
marketing_df = df_raw.copy()
```

```
marketing_df.head()
```
